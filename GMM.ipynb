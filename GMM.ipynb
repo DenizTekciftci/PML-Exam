{
 "cells": [
  {
   "cell_type": "code",
   "execution_count": 1,
   "metadata": {},
   "outputs": [
    {
     "name": "stderr",
     "output_type": "stream",
     "text": [
      "c:\\Users\\deniz\\AppData\\Local\\Programs\\Python\\Python38\\lib\\site-packages\\tqdm\\auto.py:22: TqdmWarning: IProgress not found. Please update jupyter and ipywidgets. See https://ipywidgets.readthedocs.io/en/stable/user_install.html\n",
      "  from .autonotebook import tqdm as notebook_tqdm\n"
     ]
    }
   ],
   "source": [
    "import torch\n",
    "import torch.utils.data\n",
    "from torchvision import datasets, transforms\n",
    "import matplotlib.pyplot as plt\n",
    "import numpy as np\n",
    "import torchvision\n",
    "from sklearn.mixture import GaussianMixture\n",
    "from sklearn.decomposition import PCA, FactorAnalysis\n",
    "import pandas as pd\n",
    "from torchvision.utils import save_image\n",
    "import random\n"
   ]
  },
  {
   "cell_type": "code",
   "execution_count": 2,
   "metadata": {},
   "outputs": [],
   "source": [
    "data = pd.read_csv(\"mnist_train.csv\", header = None)\n",
    "testData = pd.read_csv(\"mnist_train.csv\", header = None)"
   ]
  },
  {
   "cell_type": "code",
   "execution_count": 3,
   "metadata": {},
   "outputs": [],
   "source": [
    "allData = np.array(data)\n",
    "allTestData = np.array(testData)"
   ]
  },
  {
   "cell_type": "code",
   "execution_count": 4,
   "metadata": {},
   "outputs": [],
   "source": [
    "y = allData[:,0]\n",
    "X = np.delete(allData, 0, 1) / 255\n",
    "\n",
    "y_test = allTestData[:,0]\n",
    "X_test = np.delete(allTestData, 0, 1) / 255"
   ]
  },
  {
   "cell_type": "code",
   "execution_count": 5,
   "metadata": {},
   "outputs": [
    {
     "name": "stderr",
     "output_type": "stream",
     "text": [
      "C:\\Users\\deniz\\AppData\\Local\\Temp\\ipykernel_10384\\3314637757.py:1: UserWarning: Creating a tensor from a list of numpy.ndarrays is extremely slow. Please consider converting the list to a single numpy.ndarray with numpy.array() before converting to a tensor. (Triggered internally at C:\\actions-runner\\_work\\pytorch\\pytorch\\builder\\windows\\pytorch\\torch\\csrc\\utils\\tensor_new.cpp:233.)\n",
      "  save_image(torch.tensor([X[0]]).view(-1, 1, 28, 28), \"results/5.png\")\n"
     ]
    }
   ],
   "source": [
    "save_image(torch.tensor([X[0]]).view(-1, 1, 28, 28), \"results/5.png\")"
   ]
  },
  {
   "cell_type": "code",
   "execution_count": 6,
   "metadata": {},
   "outputs": [],
   "source": [
    "X_subset = X[0:10000]"
   ]
  },
  {
   "cell_type": "code",
   "execution_count": 6,
   "metadata": {},
   "outputs": [
    {
     "name": "stdout",
     "output_type": "stream",
     "text": [
      "Initialization 0\n",
      "  Iteration 10\t time lapse 32.15152s\t ll change 0.36007\n",
      "  Iteration 20\t time lapse 31.08054s\t ll change 0.11647\n",
      "  Iteration 30\t time lapse 30.42391s\t ll change 0.02597\n",
      "  Iteration 40\t time lapse 30.63370s\t ll change -0.00000\n",
      "Initialization converged: True\t time lapse 124.28967s\t ll 2472.42732\n",
      "Initialization 0\n",
      "  Iteration 10\t time lapse 61.92224s\t ll change 0.02807\n",
      "Initialization converged: True\t time lapse 91.15970s\t ll 2800.77207\n",
      "Initialization 0\n",
      "  Iteration 10\t time lapse 91.73060s\t ll change 0.02150\n",
      "Initialization converged: True\t time lapse 109.13796s\t ll 3142.91216\n",
      "Initialization 0\n",
      "Initialization converged: True\t time lapse 41.01076s\t ll 3403.99836\n",
      "Initialization 0\n",
      "Initialization converged: True\t time lapse 50.83186s\t ll 3582.00714\n",
      "Initialization 0\n",
      "Initialization converged: True\t time lapse 43.74804s\t ll 3746.94651\n",
      "Initialization 0\n",
      "Initialization converged: True\t time lapse 71.06986s\t ll 3855.64362\n",
      "Initialization 0\n",
      "Initialization converged: True\t time lapse 128.50991s\t ll 3937.38107\n",
      "Initialization 0\n",
      "Initialization converged: True\t time lapse 118.05560s\t ll 4004.66484\n",
      "Initialization 0\n",
      "Initialization converged: True\t time lapse 102.63809s\t ll 4057.60421\n",
      "Initialization 0\n",
      "Initialization converged: True\t time lapse 176.54933s\t ll 4106.45103\n",
      "Initialization 0\n",
      "Initialization converged: True\t time lapse 87.36594s\t ll 4142.59407\n",
      "Initialization 0\n",
      "Initialization converged: True\t time lapse 94.32001s\t ll 4178.06106\n",
      "Initialization 0\n",
      "Initialization converged: True\t time lapse 101.42649s\t ll 4208.82921\n",
      "Initialization 0\n",
      "Initialization converged: True\t time lapse 108.73663s\t ll 4233.08845\n",
      "Initialization 0\n",
      "Initialization converged: True\t time lapse 111.34564s\t ll 4260.23561\n",
      "Initialization 0\n",
      "Initialization converged: True\t time lapse 117.12030s\t ll 4281.21969\n",
      "Initialization 0\n",
      "Initialization converged: True\t time lapse 123.64944s\t ll 4304.22309\n",
      "Initialization 0\n",
      "Initialization converged: True\t time lapse 130.62844s\t ll 4321.93212\n",
      "Initialization 0\n",
      "Initialization converged: True\t time lapse 139.00950s\t ll 4336.17436\n"
     ]
    },
    {
     "data": {
      "text/plain": [
       "[<matplotlib.lines.Line2D at 0x18188c505e0>]"
      ]
     },
     "execution_count": 6,
     "metadata": {},
     "output_type": "execute_result"
    },
    {
     "data": {
      "image/png": "[encoded data removed]",
      "text/plain": [
       "<Figure size 640x480 with 1 Axes>"
      ]
     },
     "metadata": {},
     "output_type": "display_data"
    }
   ],
   "source": [
    "n_components = np.arange(10, 210, 10)\n",
    "aicsGMM = []\n",
    "for n in n_components:\n",
    "    GMM = GaussianMixture(n, covariance_type='full', random_state=0, verbose = 2)\n",
    "    aicsGMM.append(GMM.fit(X_subset).aic(X_subset))\n",
    "\n",
    "aicsGMM = np.array([aicsGMM])\n",
    "plt.title(\"Gaussian Mixture Model\") \n",
    "plt.xlabel(\"k\")   \n",
    "plt.ylabel(\"AIC\")   \n",
    "plt.plot(n_components, aicsGMM)"
   ]
  },
  {
   "cell_type": "code",
   "execution_count": null,
   "metadata": {},
   "outputs": [],
   "source": [
    "optimized_param = n_components[aicsGMM.argmin]\n",
    "print(optimized_param)"
   ]
  },
  {
   "cell_type": "code",
   "execution_count": 9,
   "metadata": {},
   "outputs": [
    {
     "name": "stdout",
     "output_type": "stream",
     "text": [
      "Initialization 0\n",
      "  Iteration 10\t time lapse 562.69767s\t ll change 3.68446\n",
      "  Iteration 20\t time lapse 525.07977s\t ll change 0.06165\n",
      "  Iteration 30\t time lapse 520.83644s\t ll change 0.00421\n",
      "Initialization converged: True\t time lapse 1869.04374s\t ll 2786.42207\n"
     ]
    }
   ],
   "source": [
    "optGMM = GaussianMixture(optimized_param, covariance_type='full', random_state=0, verbose = 2).fit(X)"
   ]
  },
  {
   "cell_type": "code",
   "execution_count": 274,
   "metadata": {},
   "outputs": [],
   "source": [
    "z = np.array([random.randint(0, 29) for _ in range(64)])\n",
    "mean = optGMM.means_[z]\n",
    "cov = optGMM.covariances_[z]\n",
    "\n",
    "pictures = np.array([np.random.multivariate_normal(mean[i], cov[i]) for i in range(64)])\n",
    "tensorPics = torch.tensor(pictures).view(64, 1, 28, 28)\n",
    "save_image(tensorPics, \"results/random64.png\")\n",
    "# tensorPicture = torch.tensor([torch.tensor(pic).view(1, 1, 28, 28) for pic in pictures])"
   ]
  },
  {
   "cell_type": "code",
   "execution_count": 22,
   "metadata": {},
   "outputs": [
    {
     "name": "stdout",
     "output_type": "stream",
     "text": [
      "2786.4220658422655\n"
     ]
    }
   ],
   "source": [
    "print(optGMM.score(X_test))"
   ]
  },
  {
   "attachments": {},
   "cell_type": "markdown",
   "metadata": {},
   "source": [
    "# Factor Analysis"
   ]
  },
  {
   "cell_type": "code",
   "execution_count": 34,
   "metadata": {},
   "outputs": [
    {
     "name": "stdout",
     "output_type": "stream",
     "text": [
      "10\n",
      "20\n",
      "30\n",
      "40\n",
      "50\n",
      "60\n",
      "70\n",
      "80\n",
      "90\n",
      "100\n",
      "110\n",
      "120\n",
      "130\n",
      "140\n",
      "150\n",
      "160\n",
      "170\n",
      "180\n",
      "190\n",
      "200\n",
      "210\n",
      "220\n",
      "230\n",
      "240\n",
      "250\n",
      "260\n",
      "270\n",
      "280\n",
      "290\n",
      "300\n",
      "310\n",
      "320\n",
      "330\n",
      "340\n",
      "350\n",
      "360\n",
      "370\n",
      "380\n",
      "390\n",
      "400\n",
      "410\n",
      "420\n",
      "430\n",
      "440\n"
     ]
    },
    {
     "data": {
      "text/plain": [
       "[<matplotlib.lines.Line2D at 0x18188d81730>]"
      ]
     },
     "execution_count": 34,
     "metadata": {},
     "output_type": "execute_result"
    },
    {
     "data": {
      "image/png": "[encoded data removed]",
      "text/plain": [
       "<Figure size 640x480 with 1 Axes>"
      ]
     },
     "metadata": {},
     "output_type": "display_data"
    }
   ],
   "source": [
    "k_components = np.arange(10, 510, 10)\n",
    "aicsFA = []\n",
    "for k in k_components:\n",
    "    print(k)\n",
    "    model = FactorAnalysis(n_components=k, random_state=0).fit(X_subset)\n",
    "    score = model.score(X_subset) * len(X_subset)\n",
    "    p = len(X_subset[0])\n",
    "    correction = (p * (k + 1) - k * (k - 1) / 2) * np.log(len(X_subset))\n",
    "    aic = -2 * score + correction\n",
    "    aicsFA.append(aic)\n",
    "    \n",
    "plt.title(\"Factor Analysis\") \n",
    "plt.xlabel(\"k\")   \n",
    "plt.ylabel(\"AIC\")   \n",
    "plt.plot(k_components, aicsFA)"
   ]
  },
  {
   "cell_type": "code",
   "execution_count": 35,
   "metadata": {},
   "outputs": [],
   "source": [
    "aicsFA = np.array([aicsFA])"
   ]
  },
  {
   "cell_type": "code",
   "execution_count": 36,
   "metadata": {},
   "outputs": [
    {
     "name": "stdout",
     "output_type": "stream",
     "text": [
      "31\n"
     ]
    }
   ],
   "source": [
    "print(aicsFA.argmin())"
   ]
  },
  {
   "cell_type": "code",
   "execution_count": 38,
   "metadata": {},
   "outputs": [
    {
     "name": "stdout",
     "output_type": "stream",
     "text": [
      "320\n"
     ]
    }
   ],
   "source": [
    "print(k_components[31])"
   ]
  },
  {
   "cell_type": "code",
   "execution_count": 39,
   "metadata": {},
   "outputs": [],
   "source": [
    "optFA = FactorAnalysis(n_components=320, random_state=0).fit(X)"
   ]
  },
  {
   "cell_type": "code",
   "execution_count": 40,
   "metadata": {},
   "outputs": [
    {
     "name": "stdout",
     "output_type": "stream",
     "text": [
      "2037.4374354443937\n"
     ]
    }
   ],
   "source": [
    "print(optFA.score(X_test))"
   ]
  },
  {
   "cell_type": "code",
   "execution_count": 50,
   "metadata": {},
   "outputs": [
    {
     "name": "stdout",
     "output_type": "stream",
     "text": [
      "(320, 784)\n"
     ]
    }
   ],
   "source": [
    "print(optFA.components_.shape)"
   ]
  },
  {
   "cell_type": "code",
   "execution_count": 275,
   "metadata": {},
   "outputs": [],
   "source": [
    "pictureFA2 = np.random.multivariate_normal(optFA.mean_, optFA.get_covariance(), 64)\n",
    "tensorPicsFA = torch.tensor(pictureFA2).view(64, 1, 28, 28)\n",
    "save_image(tensorPicsFA, \"results/random64FA.png\")"
   ]
  },
  {
   "attachments": {},
   "cell_type": "markdown",
   "metadata": {},
   "source": [
    "### Lower dim for test"
   ]
  },
  {
   "cell_type": "code",
   "execution_count": 281,
   "metadata": {},
   "outputs": [],
   "source": [
    "comps = [2, 5, 10, 20, 30, 60, 100, 200 ,300 ,400 , 500 ,600 , 700, 785]\n",
    "for comp in comps:\n",
    "    fa_iter = FactorAnalysis(n_components=comp).fit(X)\n",
    "    pictures_iter = np.random.multivariate_normal(fa_iter.mean_, fa_iter.get_covariance(), 64)\n",
    "    tensorPic_iter = torch.tensor(pictures_iter).view(64, 1, 28, 28)\n",
    "    save_image(tensorPic_iter, f\"results/64FA{comp}.png\")"
   ]
  }
 ],
 "metadata": {
  "kernelspec": {
   "display_name": "Python 3",
   "language": "python",
   "name": "python3"
  },
  "language_info": {
   "codemirror_mode": {
    "name": "ipython",
    "version": 3
   },
   "file_extension": ".py",
   "mimetype": "text/x-python",
   "name": "python",
   "nbconvert_exporter": "python",
   "pygments_lexer": "ipython3",
   "version": "3.8.9"
  },
  "orig_nbformat": 4,
  "vscode": {
   "interpreter": {
    "hash": "a8d9bf8fabb474e65be5c24fdb8cd8aaa61b34cad851beb160b9a31c72aee2f0"
   }
  }
 },
 "nbformat": 4,
 "nbformat_minor": 2
}
